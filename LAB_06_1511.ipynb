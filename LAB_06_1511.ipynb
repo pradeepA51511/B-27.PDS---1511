{
  "nbformat": 4,
  "nbformat_minor": 0,
  "metadata": {
    "colab": {
      "provenance": [],
      "authorship_tag": "ABX9TyPE5DMuTOAK9UQc6dYR0Tsy",
      "include_colab_link": true
    },
    "kernelspec": {
      "name": "python3",
      "display_name": "Python 3"
    },
    "language_info": {
      "name": "python"
    }
  },
  "cells": [
    {
      "cell_type": "markdown",
      "metadata": {
        "id": "view-in-github",
        "colab_type": "text"
      },
      "source": [
        "<a href=\"https://colab.research.google.com/github/pradeepA51511/B-27.PDS---1511/blob/main/LAB_06_1511.ipynb\" target=\"_parent\"><img src=\"https://colab.research.google.com/assets/colab-badge.svg\" alt=\"Open In Colab\"/></a>"
      ]
    },
    {
      "cell_type": "code",
      "execution_count": 4,
      "metadata": {
        "colab": {
          "base_uri": "https://localhost:8080/",
          "height": 0
        },
        "id": "v6VThacoXez7",
        "outputId": "d91f6afd-61b7-4706-bd84-7813254075e2"
      },
      "outputs": [
        {
          "output_type": "stream",
          "name": "stdout",
          "text": [
            " Dataset BEFORE Cleaning:\n",
            "   Patient_ID  Age\n",
            "0         101   25\n",
            "1         102   40\n",
            "2         103   -5\n",
            "3         104  132\n",
            "4         105   67\n",
            "5         106   90\n",
            "6         107  200\n",
            "\n",
            " Detected Outliers:\n",
            "   Patient_ID  Age\n",
            "2         103   -5\n",
            "3         104  132\n",
            "6         107  200\n",
            "\n",
            " Dataset AFTER Cleaning:\n",
            "   Patient_ID  Age\n",
            "0         101   25\n",
            "1         102   40\n",
            "4         105   67\n",
            "5         106   90\n"
          ]
        }
      ],
      "source": [
        "import pandas as pd\n",
        "\n",
        "data = {\n",
        "    \"Patient_ID\": [101, 102, 103, 104, 105, 106, 107],\n",
        "    \"Age\": [25, 40, -5, 132, 67, 90, 200]\n",
        "}\n",
        "\n",
        "df = pd.DataFrame(data)\n",
        "\n",
        "print(\" Dataset BEFORE Cleaning:\")\n",
        "print(df)\n",
        "\n",
        "invalid_ages = df[(df[\"Age\"] < 0) | (df[\"Age\"] > 120)]\n",
        "\n",
        "print(\"\\n Detected Outliers:\")\n",
        "print(invalid_ages)\n",
        "\n",
        "df_cleaned = df[(df[\"Age\"] >= 0) & (df[\"Age\"] <= 120)]\n",
        "\n",
        "print(\"\\n Dataset AFTER Cleaning:\")\n",
        "print(df_cleaned)\n"
      ]
    },
    {
      "cell_type": "code",
      "source": [
        "import pandas as pd\n",
        "from sklearn.preprocessing import MinMaxScaler, StandardScaler\n",
        "\n",
        "data = {\n",
        "    \"Customer_ID\": [201, 202, 203, 204, 205],\n",
        "    \"Income\": [25000, 48000, 32000, 70000, 150000]\n",
        "}\n",
        "\n",
        "df = pd.DataFrame(data)\n",
        "print(\" Original Dataset:\")\n",
        "print(df)\n",
        "\n",
        "scaler_minmax = MinMaxScaler()\n",
        "df[\"Income_MinMax\"] = scaler_minmax.fit_transform(df[[\"Income\"]])\n",
        "\n",
        "scaler_standard = StandardScaler()\n",
        "df[\"Income_Standardized\"] = scaler_standard.fit_transform(df[[\"Income\"]])\n",
        "\n",
        "print(\"\\n Dataset AFTER Scaling:\")\n",
        "print(df)\n"
      ],
      "metadata": {
        "colab": {
          "base_uri": "https://localhost:8080/",
          "height": 0
        },
        "id": "rTD59VyHXjuY",
        "outputId": "80215ba2-4984-432c-eeeb-f6d3e10c6299"
      },
      "execution_count": 5,
      "outputs": [
        {
          "output_type": "stream",
          "name": "stdout",
          "text": [
            " Original Dataset:\n",
            "   Customer_ID  Income\n",
            "0          201   25000\n",
            "1          202   48000\n",
            "2          203   32000\n",
            "3          204   70000\n",
            "4          205  150000\n",
            "\n",
            " Dataset AFTER Scaling:\n",
            "   Customer_ID  Income  Income_MinMax  Income_Standardized\n",
            "0          201   25000          0.000            -0.884402\n",
            "1          202   48000          0.184            -0.375871\n",
            "2          203   32000          0.056            -0.729632\n",
            "3          204   70000          0.360             0.110550\n",
            "4          205  150000          1.000             1.879354\n"
          ]
        }
      ]
    }
  ]
}