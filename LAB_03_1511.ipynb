{
  "nbformat": 4,
  "nbformat_minor": 0,
  "metadata": {
    "colab": {
      "provenance": [],
      "authorship_tag": "ABX9TyOnlx6PBL2xtPhhVBzEpXqf",
      "include_colab_link": true
    },
    "kernelspec": {
      "name": "python3",
      "display_name": "Python 3"
    },
    "language_info": {
      "name": "python"
    }
  },
  "cells": [
    {
      "cell_type": "markdown",
      "metadata": {
        "id": "view-in-github",
        "colab_type": "text"
      },
      "source": [
        "<a href=\"https://colab.research.google.com/github/pradeepA51511/B-27.PDS---1511/blob/main/LAB_03_1511.ipynb\" target=\"_parent\"><img src=\"https://colab.research.google.com/assets/colab-badge.svg\" alt=\"Open In Colab\"/></a>"
      ]
    },
    {
      "cell_type": "code",
      "source": [
        "import numpy as np\n",
        "\n",
        "# --------------------------\n",
        "# 1. Generate 4x4 Test Score Array\n",
        "# --------------------------\n",
        "np.random.seed(10)  # for reproducibility\n",
        "scores = np.random.randint(50, 100, size=(4, 4))  # Test scores between 50-100\n",
        "print(\"Test Scores (4x4):\\n\", scores)\n",
        "\n",
        "# --------------------------\n",
        "# 2. Row-wise & Column-wise Mean\n",
        "# --------------------------\n",
        "row_mean = np.mean(scores, axis=1)\n",
        "col_mean = np.mean(scores, axis=0)\n",
        "print(\"\\nRow-wise Mean:\", row_mean)\n",
        "print(\"Column-wise Mean:\", col_mean)\n",
        "\n",
        "# --------------------------\n",
        "# 3. Standard Deviation & Variance\n",
        "# --------------------------\n",
        "std_dev = np.std(scores)\n",
        "variance = np.var(scores)\n",
        "print(\"\\nStandard Deviation:\", std_dev)\n",
        "print(\"Variance:\", variance)\n",
        "\n",
        "# --------------------------\n",
        "# 4. Global Max & Min with Indices\n",
        "# --------------------------\n",
        "global_max = np.max(scores)\n",
        "global_min = np.min(scores)\n",
        "max_index = np.unravel_index(np.argmax(scores), scores.shape)\n",
        "min_index = np.unravel_index(np.argmin(scores), scores.shape)\n",
        "print(\"\\nGlobal Max:\", global_max, \"at index\", max_index)\n",
        "print(\"Global Min:\", global_min, \"at index\", min_index)\n",
        "\n",
        "# --------------------------\n",
        "# 5. Summary of Statistical Insights\n",
        "# --------------------------\n",
        "print(\"\\n--- Summary ---\")\n",
        "print(f\"Row-wise Mean Scores: {row_mean}\")\n",
        "print(f\"Column-wise Mean Scores: {col_mean}\")\n",
        "print(f\"Overall Standard Deviation: {std_dev:.2f}\")\n",
        "print(f\"Overall Variance: {variance:.2f}\")\n",
        "print(f\"Highest Score: {global_max} at {max_index}\")\n",
        "print(f\"Lowest Score: {global_min} at {min_index}\")"
      ],
      "metadata": {
        "colab": {
          "base_uri": "https://localhost:8080/"
        },
        "id": "T7tYvzwBMMvo",
        "outputId": "992fa38a-d807-4a03-ff70-1791fcc06267"
      },
      "execution_count": 7,
      "outputs": [
        {
          "output_type": "stream",
          "name": "stdout",
          "text": [
            "Test Scores (4x4):\n",
            " [[59 86 65 50]\n",
            " [99 78 75 79]\n",
            " [98 79 99 58]\n",
            " [59 50 92 90]]\n",
            "\n",
            "Row-wise Mean: [65.   82.75 83.5  72.75]\n",
            "Column-wise Mean: [78.75 73.25 82.75 69.25]\n",
            "\n",
            "Standard Deviation: 16.75559608011604\n",
            "Variance: 280.75\n",
            "\n",
            "Global Max: 99 at index (np.int64(1), np.int64(0))\n",
            "Global Min: 50 at index (np.int64(0), np.int64(3))\n",
            "\n",
            "--- Summary ---\n",
            "Row-wise Mean Scores: [65.   82.75 83.5  72.75]\n",
            "Column-wise Mean Scores: [78.75 73.25 82.75 69.25]\n",
            "Overall Standard Deviation: 16.76\n",
            "Overall Variance: 280.75\n",
            "Highest Score: 99 at (np.int64(1), np.int64(0))\n",
            "Lowest Score: 50 at (np.int64(0), np.int64(3))\n"
          ]
        }
      ]
    },
    {
      "cell_type": "code",
      "source": [
        "import numpy as np\n",
        "import matplotlib.pyplot as plt"
      ],
      "metadata": {
        "id": "wXOAmT1gMusY"
      },
      "execution_count": 8,
      "outputs": []
    },
    {
      "cell_type": "code",
      "source": [
        "# Create random pixel values between 0–255\n",
        "image = np.random.randint(0, 256, (3, 3, 3), dtype=np.uint8)\n",
        "print(\"Original Image Matrix:\\n\", image)"
      ],
      "metadata": {
        "colab": {
          "base_uri": "https://localhost:8080/"
        },
        "id": "rGSmSNG7M4x3",
        "outputId": "1a29be32-9445-4245-c82b-0edd6b2599d7"
      },
      "execution_count": 9,
      "outputs": [
        {
          "output_type": "stream",
          "name": "stdout",
          "text": [
            "Original Image Matrix:\n",
            " [[[246  41 127]\n",
            "  [ 38 164 189]\n",
            "  [115 175 115]]\n",
            "\n",
            " [[185  14 175]\n",
            "  [ 16 150  17]\n",
            "  [244 100 209]]\n",
            "\n",
            " [[ 12 209 239]\n",
            "  [192   2   1]\n",
            "  [139 201   8]]]\n"
          ]
        }
      ]
    },
    {
      "cell_type": "code",
      "source": [
        "red_channel   = image[:, :, 0]\n",
        "green_channel = image[:, :, 1]\n",
        "blue_channel  = image[:, :, 2]\n",
        "\n",
        "print(\"\\nRed Channel:\\n\", red_channel)\n",
        "print(\"\\nGreen Channel:\\n\", green_channel)\n",
        "print(\"\\nBlue Channel:\\n\", blue_channel)"
      ],
      "metadata": {
        "colab": {
          "base_uri": "https://localhost:8080/"
        },
        "id": "kgkrxkmtM68A",
        "outputId": "aeaa20c3-b039-4b0a-934f-a9696e5c4efc"
      },
      "execution_count": 10,
      "outputs": [
        {
          "output_type": "stream",
          "name": "stdout",
          "text": [
            "\n",
            "Red Channel:\n",
            " [[246  38 115]\n",
            " [185  16 244]\n",
            " [ 12 192 139]]\n",
            "\n",
            "Green Channel:\n",
            " [[ 41 164 175]\n",
            " [ 14 150 100]\n",
            " [209   2 201]]\n",
            "\n",
            "Blue Channel:\n",
            " [[127 189 115]\n",
            " [175  17 209]\n",
            " [239   1   8]]\n"
          ]
        }
      ]
    },
    {
      "cell_type": "code",
      "source": [
        "avg_red   = np.mean(red_channel)\n",
        "avg_green = np.mean(green_channel)\n",
        "avg_blue  = np.mean(blue_channel)\n",
        "\n",
        "print(\"\\nAverage Intensities:\")\n",
        "print(f\"Red: {avg_red:.2f}, Green: {avg_green:.2f}, Blue: {avg_blue:.2f}\")\n"
      ],
      "metadata": {
        "colab": {
          "base_uri": "https://localhost:8080/"
        },
        "id": "2hLTWQcFM-AS",
        "outputId": "dd8d5b43-52e4-4022-e4a9-5d3f64da558f"
      },
      "execution_count": 11,
      "outputs": [
        {
          "output_type": "stream",
          "name": "stdout",
          "text": [
            "\n",
            "Average Intensities:\n",
            "Red: 131.89, Green: 117.33, Blue: 120.00\n"
          ]
        }
      ]
    },
    {
      "cell_type": "code",
      "source": [
        "brightened_image = np.clip(image + 50, 0, 255)\n",
        "print(\"\\nBrightened Image Matrix:\\n\", brightened_image)"
      ],
      "metadata": {
        "colab": {
          "base_uri": "https://localhost:8080/"
        },
        "id": "hzkAFLYoNDJj",
        "outputId": "67f0e8c2-eb1c-4824-c00a-a1bcca141845"
      },
      "execution_count": 12,
      "outputs": [
        {
          "output_type": "stream",
          "name": "stdout",
          "text": [
            "\n",
            "Brightened Image Matrix:\n",
            " [[[ 40  91 177]\n",
            "  [ 88 214 239]\n",
            "  [165 225 165]]\n",
            "\n",
            " [[235  64 225]\n",
            "  [ 66 200  67]\n",
            "  [ 38 150   3]]\n",
            "\n",
            " [[ 62   3  33]\n",
            "  [242  52  51]\n",
            "  [189 251  58]]]\n"
          ]
        }
      ]
    },
    {
      "cell_type": "code",
      "source": [
        "# Display as image\n",
        "plt.subplot(1, 2, 1)\n",
        "plt.imshow(image)\n",
        "plt.title(\"Original Image\")\n",
        "plt.axis('off')\n",
        "\n",
        "plt.subplot(1, 2, 2)\n",
        "plt.imshow(brightened_image)\n",
        "plt.title(\"Brightened Image\")\n",
        "plt.axis('off')\n",
        "\n",
        "plt.show()"
      ],
      "metadata": {
        "colab": {
          "base_uri": "https://localhost:8080/",
          "height": 284
        },
        "id": "VQBlgj-GNF32",
        "outputId": "71baec77-1624-45f5-acbf-3bc3c4fcaf0d"
      },
      "execution_count": 13,
      "outputs": [
        {
          "output_type": "display_data",
          "data": {
            "text/plain": [
              "<Figure size 640x480 with 2 Axes>"
            ],
            "image/png": "[encoded data removed]"
          },
          "metadata": {}
        }
      ]
    },
    {
      "cell_type": "code",
      "source": [
        "plt.figure(figsize=(8, 3))\n",
        "\n",
        "plt.subplot(1, 3, 1)\n",
        "plt.imshow(red_channel, cmap='Reds')\n",
        "plt.title(\"Red Channel\")\n",
        "plt.axis('off')\n",
        "\n",
        "plt.subplot(1, 3, 2)\n",
        "plt.imshow(green_channel, cmap='Greens')\n",
        "plt.title(\"Green Channel\")\n",
        "plt.axis('off')\n",
        "\n",
        "plt.subplot(1, 3, 3)\n",
        "plt.imshow(blue_channel, cmap='Blues')\n",
        "plt.title(\"Blue Channel\")\n",
        "plt.axis('off')\n",
        "\n",
        "plt.show()"
      ],
      "metadata": {
        "colab": {
          "base_uri": "https://localhost:8080/",
          "height": 241
        },
        "id": "aIrm0WDlNJ7o",
        "outputId": "1fcec999-0842-43d3-a281-a5da55d8a12f"
      },
      "execution_count": 14,
      "outputs": [
        {
          "output_type": "display_data",
          "data": {
            "text/plain": [
              "<Figure size 800x300 with 3 Axes>"
            ],
            "image/png": "[encoded data removed]"
          },
          "metadata": {}
        }
      ]
    }
  ]
}