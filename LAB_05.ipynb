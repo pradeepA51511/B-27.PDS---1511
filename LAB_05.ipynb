{
  "nbformat": 4,
  "nbformat_minor": 0,
  "metadata": {
    "colab": {
      "provenance": [],
      "authorship_tag": "ABX9TyOvyLRmEUeO/kjM3FTnOKY3",
      "include_colab_link": true
    },
    "kernelspec": {
      "name": "python3",
      "display_name": "Python 3"
    },
    "language_info": {
      "name": "python"
    }
  },
  "cells": [
    {
      "cell_type": "markdown",
      "metadata": {
        "id": "view-in-github",
        "colab_type": "text"
      },
      "source": [
        "<a href=\"https://colab.research.google.com/github/pradeepA51511/B-27.PDS---1511/blob/main/LAB_05.ipynb\" target=\"_parent\"><img src=\"https://colab.research.google.com/assets/colab-badge.svg\" alt=\"Open In Colab\"/></a>"
      ]
    },
    {
      "cell_type": "code",
      "execution_count": null,
      "metadata": {
        "colab": {
          "base_uri": "https://localhost:8080/"
        },
        "id": "jy6sdYR1pSlk",
        "outputId": "636a1980-5a69-4fee-d083-6e9d6db801a5"
      },
      "outputs": [
        {
          "output_type": "stream",
          "name": "stdout",
          "text": [
            "Merged Dataset:\n",
            "    transaction_id  customer_id  amount     name       city\n",
            "0             101            1     250    Alice  Hyderabad\n",
            "1             102            2     400      Bob  Bangalore\n",
            "2             103            3     150  Charlie  Hyderabad\n",
            "3             104            1     300    Alice  Hyderabad\n",
            "4             105            4     500    David    Chennai\n",
            "5             106            5     200      Eva  Bangalore\n",
            "6             107            2     100      Bob  Bangalore \n",
            "\n",
            "Customer Spend:\n",
            "    customer_id     name  amount\n",
            "0            1    Alice     550\n",
            "1            2      Bob     500\n",
            "2            3  Charlie     150\n",
            "3            4    David     500\n",
            "4            5      Eva     200 \n",
            "\n",
            "City-wise Spend:\n",
            "         city  amount\n",
            "0  Bangalore     700\n",
            "1    Chennai     500\n",
            "2  Hyderabad     700 \n",
            "\n",
            "Top Spender:\n",
            " customer_id        1\n",
            "name           Alice\n",
            "amount           550\n",
            "Name: 0, dtype: object \n",
            "\n"
          ]
        }
      ],
      "source": [
        "import pandas as pd\n",
        "\n",
        "customers = pd.DataFrame({\n",
        "    'customer_id': [1, 2, 3, 4, 5],\n",
        "    'name': ['Alice', 'Bob', 'Charlie', 'David', 'Eva'],\n",
        "    'city': ['Hyderabad', 'Bangalore', 'Hyderabad', 'Chennai', 'Bangalore']\n",
        "})\n",
        "\n",
        "transactions = pd.DataFrame({\n",
        "    'transaction_id': [101, 102, 103, 104, 105, 106, 107],\n",
        "    'customer_id': [1, 2, 3, 1, 4, 5, 2],\n",
        "    'amount': [250, 400, 150, 300, 500, 200, 100]\n",
        "})\n",
        "\n",
        "merged = pd.merge(transactions, customers, on='customer_id')\n",
        "customer_spend = merged.groupby(['customer_id', 'name'])['amount'].sum().reset_index()\n",
        "city_spend = merged.groupby('city')['amount'].sum().reset_index()\n",
        "top_spender = customer_spend.loc[customer_spend['amount'].idxmax()]\n",
        "\n",
        "print(\"Merged Dataset:\\n\", merged, \"\\n\")\n",
        "print(\"Customer Spend:\\n\", customer_spend, \"\\n\")\n",
        "print(\"City-wise Spend:\\n\", city_spend, \"\\n\")\n",
        "print(\"Top Spender:\\n\", top_spender, \"\\n\")\n"
      ]
    },
    {
      "cell_type": "code",
      "source": [
        "import pandas as pd\n",
        "\n",
        "patients = pd.DataFrame({\n",
        "    'patient_id': [1, 2, 3, 4, 5],\n",
        "    'name': ['Ravi', 'Anita', 'Kiran', 'Sita', 'Manoj'],\n",
        "    'age': [30, 45, 25, 40, 35]\n",
        "})\n",
        "\n",
        "appointments = pd.DataFrame({\n",
        "    'appointment_id': [201, 202, 203, 204, 205, 206, 207, 208],\n",
        "    'patient_id': [1, 2, 3, 1, 4, 5, 1, 2],\n",
        "    'doctor': ['Dr. Rao', 'Dr. Meena', 'Dr. Rao', 'Dr. Rao', 'Dr. Meena', 'Dr. Sharma', 'Dr. Rao', 'Dr. Sharma']\n",
        "})\n",
        "\n",
        "merged = pd.merge(appointments, patients, on='patient_id')\n",
        "patient_visits = merged.groupby(['patient_id', 'name'])['appointment_id'].count().reset_index(name='visits')\n",
        "doctor_workload = merged.groupby('doctor')['appointment_id'].count().reset_index(name='appointments_handled')\n",
        "top_patient = patient_visits.loc[patient_visits['visits'].idxmax()]\n",
        "\n",
        "print(\"Merged Dataset:\\n\", merged, \"\\n\")\n",
        "print(\"Patient Visits:\\n\", patient_visits, \"\\n\")\n",
        "print(\"Doctor Workload:\\n\", doctor_workload, \"\\n\")\n",
        "print(\"Patient with Maximum Visits:\\n\", top_patient, \"\\n\")\n"
      ],
      "metadata": {
        "colab": {
          "base_uri": "https://localhost:8080/"
        },
        "id": "s15sXGXlpaZ5",
        "outputId": "fb571c0d-d2ea-4b5b-eebb-cc7dd3157dfb"
      },
      "execution_count": null,
      "outputs": [
        {
          "output_type": "stream",
          "name": "stdout",
          "text": [
            "Merged Dataset:\n",
            "    appointment_id  patient_id      doctor   name  age\n",
            "0             201           1     Dr. Rao   Ravi   30\n",
            "1             202           2   Dr. Meena  Anita   45\n",
            "2             203           3     Dr. Rao  Kiran   25\n",
            "3             204           1     Dr. Rao   Ravi   30\n",
            "4             205           4   Dr. Meena   Sita   40\n",
            "5             206           5  Dr. Sharma  Manoj   35\n",
            "6             207           1     Dr. Rao   Ravi   30\n",
            "7             208           2  Dr. Sharma  Anita   45 \n",
            "\n",
            "Patient Visits:\n",
            "    patient_id   name  visits\n",
            "0           1   Ravi       3\n",
            "1           2  Anita       2\n",
            "2           3  Kiran       1\n",
            "3           4   Sita       1\n",
            "4           5  Manoj       1 \n",
            "\n",
            "Doctor Workload:\n",
            "        doctor  appointments_handled\n",
            "0   Dr. Meena                     2\n",
            "1     Dr. Rao                     4\n",
            "2  Dr. Sharma                     2 \n",
            "\n",
            "Patient with Maximum Visits:\n",
            " patient_id       1\n",
            "name          Ravi\n",
            "visits           3\n",
            "Name: 0, dtype: object \n",
            "\n"
          ]
        }
      ]
    }
  ]
}